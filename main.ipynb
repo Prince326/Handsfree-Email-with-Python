{
 "cells": [
  {
   "cell_type": "code",
   "execution_count": 1,
   "metadata": {},
   "outputs": [],
   "source": [
    "def sendmail():\n",
    "    \n",
    "    engine.say(\"what should i say\")\n",
    "    engine.runAndWait()\n",
    "    content = startListening()\n",
    "            \n",
    "    engine.say(\"who is receiver, sir\")\n",
    "    engine.runAndWait()\n",
    "    to = startListening()\n",
    "    to = to + '@gmail.com'\n",
    "    \n",
    "    try:\n",
    "        server = smtplib.SMTP('smtp.gmail.com',587)\n",
    "        server.ehlo()\n",
    "        server.starttls()\n",
    "        server.login('your_email_id','password')\n",
    "        server.sendmail('your_email_id',to,content)\n",
    "        server.close()\n",
    "    \n",
    "        engine.say(\"email is sent to\" + to)\n",
    "        engine.runAndWait()\n",
    "    \n",
    "    except AttributeError as e:\n",
    "        engine.say(\"invalid email of receiver\")\n",
    "        engine.runAndWait()\n",
    "    except SMTPException as e:\n",
    "        engine.say(\"could not connect to the server\")\n",
    "        engine.runAndWait()\n"
   ]
  },
  {
   "cell_type": "code",
   "execution_count": null,
   "metadata": {},
   "outputs": [],
   "source": [
    "import subprocess\n",
    "\n",
    "# speech_recognition Library for performing speech recognition with support for Google Speech Recognition\n",
    "import speech_recognition as sr\n",
    "\n",
    "# importing the pyttsx3 library\n",
    "import pyttsx3\n",
    "\n",
    "import smtplib #for sending mails\n",
    "\n",
    "\n",
    "\n",
    "# initialisation\n",
    "engine = pyttsx3.init()\n",
    "\n",
    "# obtain audio from the microphone\n",
    "def startListening():\n",
    "    r = sr.Recognizer()\n",
    "    with sr.Microphone() as source:\n",
    "        engine.say(\"listning\")\n",
    "        engine.runAndWait()\n",
    "        audio = r.listen(source, timeout=3, phrase_time_limit=3)\n",
    "        Query = r.recognize_google(audio)\n",
    "    return Query\n",
    "\n",
    "\n",
    "try:\n",
    "    if (startListening()) == \"send email\":\n",
    "        sendmail()\n",
    "except UnknownValueError as e:\n",
    "    egine.say(\"Can't hear you,sir\")\n",
    "    engine.runAndWait()"
   ]
  }
 ],
 "metadata": {
  "kernelspec": {
   "display_name": "Python 3",
   "language": "python",
   "name": "python3"
  },
  "language_info": {
   "codemirror_mode": {
    "name": "ipython",
    "version": 3
   },
   "file_extension": ".py",
   "mimetype": "text/x-python",
   "name": "python",
   "nbconvert_exporter": "python",
   "pygments_lexer": "ipython3",
   "version": "3.8.5"
  }
 },
 "nbformat": 4,
 "nbformat_minor": 4
}
